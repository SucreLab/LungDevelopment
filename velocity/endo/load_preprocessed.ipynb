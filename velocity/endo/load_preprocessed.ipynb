{
 "cells": [
  {
   "cell_type": "code",
   "execution_count": 1,
   "metadata": {},
   "outputs": [],
   "source": [
    "import scanpy as sc\n",
    "import scvelo as scv\n",
    "import anndata\n",
    "import pandas as pd\n",
    "import cellrank as cr\n",
    "import numpy as np\n",
    "import scachepy\n",
    "\n",
    "np.random.seed(42)\n",
    "\n",
    "scv.settings.verbosity = 3\n",
    "scv.settings.set_figure_params('scvelo', frameon=True)\n",
    "cr.settings.verbosity = 2"
   ]
  },
  {
   "cell_type": "code",
   "execution_count": 2,
   "metadata": {},
   "outputs": [],
   "source": [
    "adata_w_velo = scv.read(\"./after_cellrank.h5ad\")"
   ]
  },
  {
   "cell_type": "code",
   "execution_count": 3,
   "metadata": {},
   "outputs": [],
   "source": [
    "import scipy.io\n",
    "from scipy.sparse import csr_matrix\n",
    "scipy.io.mmwrite('endo_expression_Ms.mtx', csr_matrix(adata_w_velo.layers['Ms']))"
   ]
  },
  {
   "cell_type": "code",
   "execution_count": 4,
   "metadata": {},
   "outputs": [
    {
     "name": "stdout",
     "output_type": "stream",
     "text": [
      "computing latent time using initial_states_probs, terminal_states_probs as prior\n",
      "    finished (0:01:31) --> added \n",
      "    'latent_time', shared time (adata.obs)\n"
     ]
    }
   ],
   "source": [
    "scv.tl.recover_latent_time(\n",
    "    adata_w_velo, root_key=\"initial_states_probs\", end_key=\"terminal_states_probs\"\n",
    ")"
   ]
  },
  {
   "cell_type": "code",
   "execution_count": 5,
   "metadata": {},
   "outputs": [],
   "source": [
    "adata_lite = anndata.AnnData(X=None,\n",
    "                obs = adata_w_velo.obs,\n",
    "                var = adata_w_velo.var,\n",
    "                uns = adata_w_velo.uns,\n",
    "                obsm = adata_w_velo.obsm,\n",
    "                varm = adata_w_velo.varm)"
   ]
  },
  {
   "cell_type": "code",
   "execution_count": 6,
   "metadata": {},
   "outputs": [
    {
     "name": "stdout",
     "output_type": "stream",
     "text": [
      "{'to_terminal_states_names': array(['miEC_1', 'Lymphatic_1', 'Lymphatic_2', 'Arterial maEC',\n",
      "       'Venous maEC', 'miEC_2', 'Proliferating\\nmiEC', 'Car4+', 'miEC_3'],\n",
      "      dtype=object), 'from_initial_states_names': array(['Lymphatic', 'Proliferating\\nmiEC', 'Arterial maEC', 'miEC',\n",
      "       'Car4+'], dtype=object), 'initial_states_names': array(['Lymphatic', 'Proliferating\\nmiEC', 'Arterial maEC', 'miEC',\n",
      "       'Car4+'], dtype=object)}\n"
     ]
    }
   ],
   "source": [
    "keys = ['to_terminal_states_names', 'from_initial_states_names', 'initial_states_names']\n",
    "out_dict = {}\n",
    "for key in keys:\n",
    "    out_dict[key] = adata_lite.uns[key]\n",
    "    \n",
    "print(out_dict)\n",
    "adata_lite.uns = out_dict"
   ]
  },
  {
   "cell_type": "code",
   "execution_count": 7,
   "metadata": {},
   "outputs": [],
   "source": [
    "adata_lite.write(\"./only_metadata.h5ad\", compression = 'gzip')"
   ]
  },
  {
   "cell_type": "code",
   "execution_count": null,
   "metadata": {},
   "outputs": [],
   "source": []
  }
 ],
 "metadata": {
  "kernelspec": {
   "display_name": "Python 3",
   "language": "python",
   "name": "python3"
  },
  "language_info": {
   "codemirror_mode": {
    "name": "ipython",
    "version": 3
   },
   "file_extension": ".py",
   "mimetype": "text/x-python",
   "name": "python",
   "nbconvert_exporter": "python",
   "pygments_lexer": "ipython3",
   "version": "3.8.5"
  }
 },
 "nbformat": 4,
 "nbformat_minor": 4
}
