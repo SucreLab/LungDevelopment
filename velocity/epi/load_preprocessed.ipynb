{
 "cells": [
  {
   "cell_type": "code",
   "execution_count": 1,
   "metadata": {},
   "outputs": [],
   "source": [
    "import scanpy as sc\n",
    "import scvelo as scv\n",
    "import anndata\n",
    "import pandas as pd\n",
    "import cellrank as cr\n",
    "import numpy as np\n",
    "import scachepy\n",
    "\n",
    "np.random.seed(42)\n",
    "\n",
    "scv.settings.verbosity = 3\n",
    "scv.settings.set_figure_params('scvelo', frameon=True)\n",
    "cr.settings.verbosity = 2"
   ]
  },
  {
   "cell_type": "code",
   "execution_count": 3,
   "metadata": {},
   "outputs": [],
   "source": [
    "adata_w_velo = scv.read(\"./after_cellrank.h5ad\")"
   ]
  },
  {
   "cell_type": "code",
   "execution_count": 4,
   "metadata": {},
   "outputs": [],
   "source": [
    "import scipy.io\n",
    "from scipy.sparse import csr_matrix\n",
    "scipy.io.mmwrite('epi_expression_Ms.mtx', csr_matrix(adata_w_velo.layers['Ms']))"
   ]
  },
  {
   "cell_type": "code",
   "execution_count": null,
   "metadata": {},
   "outputs": [],
   "source": []
  }
 ],
 "metadata": {
  "kernelspec": {
   "display_name": "Python 3",
   "language": "python",
   "name": "python3"
  },
  "language_info": {
   "codemirror_mode": {
    "name": "ipython",
    "version": 3
   },
   "file_extension": ".py",
   "mimetype": "text/x-python",
   "name": "python",
   "nbconvert_exporter": "python",
   "pygments_lexer": "ipython3",
   "version": "3.8.5"
  }
 },
 "nbformat": 4,
 "nbformat_minor": 4
}
