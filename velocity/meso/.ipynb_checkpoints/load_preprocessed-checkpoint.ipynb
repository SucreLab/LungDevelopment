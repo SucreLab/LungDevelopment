{
 "cells": [
  {
   "cell_type": "code",
   "execution_count": 1,
   "metadata": {},
   "outputs": [],
   "source": [
    "import scanpy as sc\n",
    "import scvelo as scv\n",
    "import anndata\n",
    "import pandas as pd\n",
    "import cellrank as cr\n",
    "import numpy as np\n",
    "import scachepy\n",
    "\n",
    "np.random.seed(42)\n",
    "\n",
    "scv.settings.verbosity = 3\n",
    "scv.settings.set_figure_params('scvelo', frameon=True)\n",
    "cr.settings.verbosity = 2"
   ]
  },
  {
   "cell_type": "code",
   "execution_count": 2,
   "metadata": {},
   "outputs": [],
   "source": [
    "adata_w_velo = scv.read(\"./removed_layers_before_latent_time.h5ad\") # See 'strip_anndat_for_latent_time' notebook\n",
    "# Needs ~11gb to load"
   ]
  },
  {
   "cell_type": "code",
   "execution_count": 3,
   "metadata": {},
   "outputs": [
    {
     "data": {
      "text/plain": [
       "AnnData object with n_obs × n_vars = 58560 × 21781\n",
       "    obs: 'timepoint', 'bulk_cellype', 'cell_subtype', 'sample_batch', 'Clusters', '_X', '_Y', 'initial_size_spliced', 'initial_size_unspliced', 'initial_size', 'n_counts', 'velocity_self_transition', 'clusters_gradients', 'terminal_states', 'terminal_states_probs', 'to_terminal_states_dp', 'initial_states', 'initial_states_probs', 'from_initial_states_dp'\n",
       "    var: 'fit_alpha', 'fit_beta', 'fit_gamma', 'fit_t_', 'fit_scaling', 'fit_alignment_scaling', 'fit_std_u', 'fit_std_s', 'fit_likelihood', 'fit_u0', 'fit_s0', 'fit_pval_steady', 'fit_steady_u', 'fit_steady_s', 'velocity_genes', 'fit_r2', 'fit_diff_kinetics', 'fit_pval_kinetics'\n",
       "    uns: 'from_initial_states_names', 'initial_states_names', 'neighbors', 'recover_dynamics', 'to_terminal_states_names', 'velocity_graph', 'velocity_graph_neg'\n",
       "    obsm: 'X_pca', 'X_umap', 'from_initial_states', 'macrostates_bwd', 'macrostates_fwd', 'to_terminal_states', 'velocity_umap'\n",
       "    varm: 'PCs', 'fit_pvals_kinetics', 'loss'\n",
       "    layers: 'fit_t', 'velocity'"
      ]
     },
     "execution_count": 3,
     "metadata": {},
     "output_type": "execute_result"
    }
   ],
   "source": [
    "adata_w_velo"
   ]
  },
  {
   "cell_type": "code",
   "execution_count": 7,
   "metadata": {},
   "outputs": [
    {
     "data": {
      "text/plain": [
       "dict_keys(['connectivities_key', 'distances_key', 'indices', 'params'])"
      ]
     },
     "execution_count": 7,
     "metadata": {},
     "output_type": "execute_result"
    }
   ],
   "source": []
  },
  {
   "cell_type": "code",
   "execution_count": 8,
   "metadata": {},
   "outputs": [],
   "source": []
  },
  {
   "cell_type": "code",
   "execution_count": 9,
   "metadata": {},
   "outputs": [
    {
     "name": "stdout",
     "output_type": "stream",
     "text": [
      "computing latent time using initial_states_probs as prior\n"
     ]
    },
    {
     "ename": "AttributeError",
     "evalue": "'NoneType' object has no attribute 'copy'",
     "output_type": "error",
     "traceback": [
      "\u001b[0;31m---------------------------------------------------------------------------\u001b[0m",
      "\u001b[0;31mAttributeError\u001b[0m                            Traceback (most recent call last)",
      "\u001b[0;32m<ipython-input-9-11faaa751cfb>\u001b[0m in \u001b[0;36m<module>\u001b[0;34m\u001b[0m\n\u001b[1;32m      1\u001b[0m \u001b[0;31m# Needed - velocity, initital states probs, terminal states probs\u001b[0m\u001b[0;34m\u001b[0m\u001b[0;34m\u001b[0m\u001b[0;34m\u001b[0m\u001b[0m\n\u001b[1;32m      2\u001b[0m \u001b[0;34m\u001b[0m\u001b[0m\n\u001b[0;32m----> 3\u001b[0;31m scv.tl.recover_latent_time(\n\u001b[0m\u001b[1;32m      4\u001b[0m     \u001b[0madata_w_velo\u001b[0m\u001b[0;34m,\u001b[0m \u001b[0mroot_key\u001b[0m\u001b[0;34m=\u001b[0m\u001b[0;34m\"initial_states_probs\"\u001b[0m\u001b[0;34m,\u001b[0m \u001b[0mend_key\u001b[0m\u001b[0;34m=\u001b[0m\u001b[0;34m\"terminal_states_probss\"\u001b[0m\u001b[0;34m\u001b[0m\u001b[0;34m\u001b[0m\u001b[0m\n\u001b[1;32m      5\u001b[0m )\n",
      "\u001b[0;32m~/miniconda3/envs/scseq/lib/python3.8/site-packages/scvelo/tools/dynamical_model.py\u001b[0m in \u001b[0;36mlatent_time\u001b[0;34m(data, vkey, min_likelihood, min_confidence, min_corr_diffusion, weight_diffusion, root_key, end_key, t_max, copy)\u001b[0m\n\u001b[1;32m    810\u001b[0m     )\n\u001b[1;32m    811\u001b[0m \u001b[0;34m\u001b[0m\u001b[0m\n\u001b[0;32m--> 812\u001b[0;31m     VPT = velocity_pseudotime(\n\u001b[0m\u001b[1;32m    813\u001b[0m         \u001b[0madata\u001b[0m\u001b[0;34m,\u001b[0m \u001b[0mvkey\u001b[0m\u001b[0;34m,\u001b[0m \u001b[0mroot_key\u001b[0m\u001b[0;34m=\u001b[0m\u001b[0mroots\u001b[0m\u001b[0;34m[\u001b[0m\u001b[0;36m0\u001b[0m\u001b[0;34m]\u001b[0m\u001b[0;34m,\u001b[0m \u001b[0mend_key\u001b[0m\u001b[0;34m=\u001b[0m\u001b[0mfates\u001b[0m\u001b[0;34m[\u001b[0m\u001b[0;36m0\u001b[0m\u001b[0;34m]\u001b[0m\u001b[0;34m,\u001b[0m \u001b[0mreturn_model\u001b[0m\u001b[0;34m=\u001b[0m\u001b[0;32mTrue\u001b[0m\u001b[0;34m\u001b[0m\u001b[0;34m\u001b[0m\u001b[0m\n\u001b[1;32m    814\u001b[0m     )\n",
      "\u001b[0;32m~/miniconda3/envs/scseq/lib/python3.8/site-packages/scvelo/tools/velocity_pseudotime.py\u001b[0m in \u001b[0;36mvelocity_pseudotime\u001b[0;34m(adata, vkey, groupby, groups, root_key, end_key, n_dcs, use_velocity_graph, save_diffmap, return_model, **kwargs)\u001b[0m\n\u001b[1;32m    222\u001b[0m             \u001b[0mroot_key\u001b[0m\u001b[0;34m,\u001b[0m \u001b[0mend_key\u001b[0m \u001b[0;34m=\u001b[0m \u001b[0;34m\"root_cells\"\u001b[0m\u001b[0;34m,\u001b[0m \u001b[0;34m\"end_points\"\u001b[0m\u001b[0;34m\u001b[0m\u001b[0;34m\u001b[0m\u001b[0m\n\u001b[1;32m    223\u001b[0m         \u001b[0mcell_subset\u001b[0m \u001b[0;34m=\u001b[0m \u001b[0mgroups_to_bool\u001b[0m\u001b[0;34m(\u001b[0m\u001b[0madata\u001b[0m\u001b[0;34m,\u001b[0m \u001b[0mgroups\u001b[0m\u001b[0;34m=\u001b[0m\u001b[0mgroups\u001b[0m\u001b[0;34m,\u001b[0m \u001b[0mgroupby\u001b[0m\u001b[0;34m=\u001b[0m\u001b[0mgroupby\u001b[0m\u001b[0;34m)\u001b[0m\u001b[0;34m\u001b[0m\u001b[0;34m\u001b[0m\u001b[0m\n\u001b[0;32m--> 224\u001b[0;31m         \u001b[0mdata\u001b[0m \u001b[0;34m=\u001b[0m \u001b[0madata\u001b[0m\u001b[0;34m.\u001b[0m\u001b[0mcopy\u001b[0m\u001b[0;34m(\u001b[0m\u001b[0;34m)\u001b[0m \u001b[0;32mif\u001b[0m \u001b[0mcell_subset\u001b[0m \u001b[0;32mis\u001b[0m \u001b[0;32mNone\u001b[0m \u001b[0;32melse\u001b[0m \u001b[0madata\u001b[0m\u001b[0;34m[\u001b[0m\u001b[0mcell_subset\u001b[0m\u001b[0;34m]\u001b[0m\u001b[0;34m.\u001b[0m\u001b[0mcopy\u001b[0m\u001b[0;34m(\u001b[0m\u001b[0;34m)\u001b[0m\u001b[0;34m\u001b[0m\u001b[0;34m\u001b[0m\u001b[0m\n\u001b[0m\u001b[1;32m    225\u001b[0m         \u001b[0;32mif\u001b[0m \u001b[0;34m\"allow_kendall_tau_shift\"\u001b[0m \u001b[0;32mnot\u001b[0m \u001b[0;32min\u001b[0m \u001b[0mkwargs\u001b[0m\u001b[0;34m:\u001b[0m\u001b[0;34m\u001b[0m\u001b[0;34m\u001b[0m\u001b[0m\n\u001b[1;32m    226\u001b[0m             \u001b[0mkwargs\u001b[0m\u001b[0;34m[\u001b[0m\u001b[0;34m\"allow_kendall_tau_shift\"\u001b[0m\u001b[0;34m]\u001b[0m \u001b[0;34m=\u001b[0m \u001b[0;32mTrue\u001b[0m\u001b[0;34m\u001b[0m\u001b[0;34m\u001b[0m\u001b[0m\n",
      "\u001b[0;32m~/miniconda3/envs/scseq/lib/python3.8/site-packages/anndata/_core/anndata.py\u001b[0m in \u001b[0;36mcopy\u001b[0;34m(self, filename)\u001b[0m\n\u001b[1;32m   1428\u001b[0m                 \u001b[0mX\u001b[0m \u001b[0;34m=\u001b[0m \u001b[0m_subset\u001b[0m\u001b[0;34m(\u001b[0m\u001b[0mself\u001b[0m\u001b[0;34m.\u001b[0m\u001b[0m_adata_ref\u001b[0m\u001b[0;34m.\u001b[0m\u001b[0mX\u001b[0m\u001b[0;34m,\u001b[0m \u001b[0;34m(\u001b[0m\u001b[0mself\u001b[0m\u001b[0;34m.\u001b[0m\u001b[0m_oidx\u001b[0m\u001b[0;34m,\u001b[0m \u001b[0mself\u001b[0m\u001b[0;34m.\u001b[0m\u001b[0m_vidx\u001b[0m\u001b[0;34m)\u001b[0m\u001b[0;34m)\u001b[0m\u001b[0;34m.\u001b[0m\u001b[0mcopy\u001b[0m\u001b[0;34m(\u001b[0m\u001b[0;34m)\u001b[0m\u001b[0;34m\u001b[0m\u001b[0;34m\u001b[0m\u001b[0m\n\u001b[1;32m   1429\u001b[0m             \u001b[0;32melse\u001b[0m\u001b[0;34m:\u001b[0m\u001b[0;34m\u001b[0m\u001b[0;34m\u001b[0m\u001b[0m\n\u001b[0;32m-> 1430\u001b[0;31m                 \u001b[0mX\u001b[0m \u001b[0;34m=\u001b[0m \u001b[0mself\u001b[0m\u001b[0;34m.\u001b[0m\u001b[0mX\u001b[0m\u001b[0;34m.\u001b[0m\u001b[0mcopy\u001b[0m\u001b[0;34m(\u001b[0m\u001b[0;34m)\u001b[0m\u001b[0;34m\u001b[0m\u001b[0;34m\u001b[0m\u001b[0m\n\u001b[0m\u001b[1;32m   1431\u001b[0m             \u001b[0;31m# TODO: Figure out what case this is:\u001b[0m\u001b[0;34m\u001b[0m\u001b[0;34m\u001b[0m\u001b[0;34m\u001b[0m\u001b[0m\n\u001b[1;32m   1432\u001b[0m             \u001b[0;32mif\u001b[0m \u001b[0mX\u001b[0m \u001b[0;32mis\u001b[0m \u001b[0;32mnot\u001b[0m \u001b[0;32mNone\u001b[0m\u001b[0;34m:\u001b[0m\u001b[0;34m\u001b[0m\u001b[0;34m\u001b[0m\u001b[0m\n",
      "\u001b[0;31mAttributeError\u001b[0m: 'NoneType' object has no attribute 'copy'"
     ]
    }
   ],
   "source": [
    "# Needed - velocity, initital states probs, terminal states probs\n",
    "\n",
    "scv.tl.recover_latent_time(\n",
    "    adata_w_velo, root_key=\"initial_states_probs\", end_key=\"terminal_states_probss\"\n",
    ")"
   ]
  },
  {
   "cell_type": "code",
   "execution_count": 5,
   "metadata": {},
   "outputs": [],
   "source": [
    "adata_lite = anndata.AnnData(X=None,\n",
    "                obs = adata_w_velo.obs,\n",
    "                var = adata_w_velo.var,\n",
    "                uns = adata_w_velo.uns,\n",
    "                obsm = adata_w_velo.obsm,\n",
    "                varm = adata_w_velo.varm)"
   ]
  },
  {
   "cell_type": "code",
   "execution_count": 6,
   "metadata": {},
   "outputs": [
    {
     "name": "stdout",
     "output_type": "stream",
     "text": [
      "{'to_terminal_states_names': array(['miEC_1', 'Lymphatic_1', 'Lymphatic_2', 'Arterial maEC',\n",
      "       'Venous maEC', 'miEC_2', 'Proliferating\\nmiEC', 'Car4+', 'miEC_3'],\n",
      "      dtype=object), 'from_initial_states_names': array(['Lymphatic', 'Proliferating\\nmiEC', 'Arterial maEC', 'miEC',\n",
      "       'Car4+'], dtype=object), 'initial_states_names': array(['Lymphatic', 'Proliferating\\nmiEC', 'Arterial maEC', 'miEC',\n",
      "       'Car4+'], dtype=object)}\n"
     ]
    }
   ],
   "source": [
    "keys = ['to_terminal_states_names', 'from_initial_states_names', 'initial_states_names']\n",
    "out_dict = {}\n",
    "for key in keys:\n",
    "    out_dict[key] = adata_lite.uns[key]\n",
    "    \n",
    "print(out_dict)\n",
    "adata_lite.uns = out_dict"
   ]
  },
  {
   "cell_type": "code",
   "execution_count": 7,
   "metadata": {},
   "outputs": [],
   "source": [
    "adata_lite.write(\"./only_metadata.h5ad\", compression = 'gzip')"
   ]
  },
  {
   "cell_type": "code",
   "execution_count": null,
   "metadata": {},
   "outputs": [],
   "source": []
  }
 ],
 "metadata": {
  "kernelspec": {
   "display_name": "Python 3",
   "language": "python",
   "name": "python3"
  },
  "language_info": {
   "codemirror_mode": {
    "name": "ipython",
    "version": 3
   },
   "file_extension": ".py",
   "mimetype": "text/x-python",
   "name": "python",
   "nbconvert_exporter": "python",
   "pygments_lexer": "ipython3",
   "version": "3.8.5"
  }
 },
 "nbformat": 4,
 "nbformat_minor": 4
}
