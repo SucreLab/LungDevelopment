{
 "cells": [
  {
   "cell_type": "code",
   "execution_count": 1,
   "metadata": {},
   "outputs": [],
   "source": [
    "import scanpy as sc\n",
    "import scvelo as scv\n",
    "import anndata\n",
    "import pandas as pd\n",
    "import cellrank as cr\n",
    "import numpy as np\n",
    "import scachepy\n",
    "\n",
    "np.random.seed(42)\n",
    "\n",
    "scv.settings.verbosity = 3\n",
    "scv.settings.set_figure_params('scvelo', frameon=True)\n",
    "cr.settings.verbosity = 2"
   ]
  },
  {
   "cell_type": "code",
   "execution_count": 2,
   "metadata": {},
   "outputs": [],
   "source": [
    "adata_w_velo = scv.read(\"./intermediate_before_latent_time.h5ad\") # 62 gb RAM - might be able to drop some layers?"
   ]
  },
  {
   "cell_type": "code",
   "execution_count": 4,
   "metadata": {},
   "outputs": [
    {
     "data": {
      "text/plain": [
       "AnnData object with n_obs × n_vars = 58560 × 21781\n",
       "    obs: 'timepoint', 'bulk_cellype', 'cell_subtype', 'sample_batch', 'Clusters', '_X', '_Y', 'initial_size_spliced', 'initial_size_unspliced', 'initial_size', 'n_counts', 'velocity_self_transition', 'clusters_gradients', 'terminal_states', 'terminal_states_probs', 'to_terminal_states_dp', 'initial_states', 'initial_states_probs', 'from_initial_states_dp'\n",
       "    var: 'fit_alpha', 'fit_beta', 'fit_gamma', 'fit_t_', 'fit_scaling', 'fit_alignment_scaling', 'fit_std_u', 'fit_std_s', 'fit_likelihood', 'fit_u0', 'fit_s0', 'fit_pval_steady', 'fit_steady_u', 'fit_steady_s', 'velocity_genes', 'fit_r2', 'fit_diff_kinetics', 'fit_pval_kinetics'\n",
       "    uns: 'T_bwd_params', 'T_fwd_params', 'cell_subtype_colors', 'clusters_gradients_colors', 'eig_bwd', 'eig_fwd', 'from_initial_states_colors', 'from_initial_states_names', 'initial_states_colors', 'initial_states_names', 'neighbors', 'pca', 'recover_dynamics', 'terminal_states_colors', 'terminal_states_names', 'timepoint_colors', 'to_terminal_states_colors', 'to_terminal_states_names', 'velocity_graph', 'velocity_graph_neg'\n",
       "    obsm: 'X_pca', 'X_umap', 'from_initial_states', 'macrostates_bwd', 'macrostates_fwd', 'to_terminal_states', 'velocity_umap'\n",
       "    varm: 'PCs', 'fit_pvals_kinetics', 'loss'\n",
       "    layers: 'Ms', 'Mu', 'ambiguous', 'fit_t', 'fit_tau', 'fit_tau_', 'matrix', 'spliced', 'unspliced', 'velocity', 'velocity_u'\n",
       "    obsp: 'T_bwd', 'T_fwd', 'connectivities', 'distances'"
      ]
     },
     "execution_count": 4,
     "metadata": {},
     "output_type": "execute_result"
    }
   ],
   "source": [
    "adata_w_velo"
   ]
  },
  {
   "cell_type": "code",
   "execution_count": 5,
   "metadata": {},
   "outputs": [
    {
     "data": {
      "text/plain": [
       "Layers with keys: Ms, Mu, ambiguous, fit_t, fit_tau, fit_tau_, matrix, spliced, unspliced, velocity, velocity_u"
      ]
     },
     "execution_count": 5,
     "metadata": {},
     "output_type": "execute_result"
    }
   ],
   "source": [
    "adata_w_velo.layers"
   ]
  },
  {
   "cell_type": "code",
   "execution_count": null,
   "metadata": {},
   "outputs": [
    {
     "name": "stdout",
     "output_type": "stream",
     "text": [
      "computing latent time using initial_states_probs, terminal_states_probs as prior\n"
     ]
    }
   ],
   "source": [
    "# Needed - velocity, initital states probs, terminal states probs\n",
    "#import scipy.io\n",
    "#from scipy.sparse import csr_matrix\n",
    "#scipy.io.mmwrite('meso_expression_Ms.mtx', csr_matrix(adata_w_velo.layers['Ms']))\n"
   ]
  },
  {
   "cell_type": "code",
   "execution_count": 11,
   "metadata": {},
   "outputs": [
    {
     "data": {
      "text/plain": [
       "{'velocity': array([[ 0.00209927,  0.00125539, -0.        , ...,         nan,\n",
       "                 nan,         nan],\n",
       "        [ 0.00063619,  0.00011808, -0.        , ...,         nan,\n",
       "                 nan,         nan],\n",
       "        [ 0.00083681,  0.00258338, -0.        , ...,         nan,\n",
       "                 nan,         nan],\n",
       "        ...,\n",
       "        [ 0.00024876,  0.00158704, -0.01701959, ...,         nan,\n",
       "                 nan,         nan],\n",
       "        [ 0.01194132,  0.        , -0.04152747, ...,         nan,\n",
       "                 nan,         nan],\n",
       "        [ 0.00028234,  0.00037994, -0.01112336, ...,         nan,\n",
       "                 nan,         nan]])}"
      ]
     },
     "execution_count": 11,
     "metadata": {},
     "output_type": "execute_result"
    }
   ],
   "source": [
    "keys = ['velocity']\n",
    "layers_out_dict = {}\n",
    "for key in keys:\n",
    "    layers_out_dict[key] = adata_w_velo.layers[key]\n",
    "    \n",
    "layers_out_dict"
   ]
  },
  {
   "cell_type": "code",
   "execution_count": 12,
   "metadata": {},
   "outputs": [
    {
     "data": {
      "text/plain": [
       "{'to_terminal_states_names': array(['Pericyte_1', 'Prenatal Wnt2+', 'Myofibroblast_1',\n",
       "        'Myofibroblast_2', 'Prenatal Myofibroblast_1',\n",
       "        'Prenatal Myofibroblast_2', 'Pericyte_2', 'Wnt2+_1', 'Wnt2+_2',\n",
       "        'Wnt2+_3', 'Adventitial fibroblast', 'Myofibroblast_3'],\n",
       "       dtype=object),\n",
       " 'from_initial_states_names': array(['Prenatal Myofibroblast_1', 'Pericyte_1', 'Prenatal Wnt2+',\n",
       "        'Pericyte_2', 'Smooth muscle', 'Pericyte_3', 'Myofibroblast_1',\n",
       "        'Wnt2+_1', 'Wnt2+_2', 'Prenatal Myofibroblast_2',\n",
       "        'Myofibroblast_2', 'Prenatal Myofibroblast_3'], dtype=object),\n",
       " 'initial_states_names': array(['Prenatal Myofibroblast_1', 'Pericyte_1', 'Prenatal Wnt2+',\n",
       "        'Pericyte_2', 'Smooth muscle', 'Pericyte_3', 'Myofibroblast_1',\n",
       "        'Wnt2+_1', 'Wnt2+_2', 'Prenatal Myofibroblast_2',\n",
       "        'Myofibroblast_2', 'Prenatal Myofibroblast_3'], dtype=object)}"
      ]
     },
     "execution_count": 12,
     "metadata": {},
     "output_type": "execute_result"
    }
   ],
   "source": [
    "keys = ['to_terminal_states_names', 'from_initial_states_names', 'initial_states_names']\n",
    "uns_out_dict = {}\n",
    "for key in keys:\n",
    "    uns_out_dict[key] = adata_w_velo.uns[key]\n",
    "\n",
    "uns_out_dict"
   ]
  },
  {
   "cell_type": "code",
   "execution_count": 13,
   "metadata": {},
   "outputs": [],
   "source": [
    "adata_lite = anndata.AnnData(X=None,\n",
    "                obs = adata_w_velo.obs,\n",
    "                var = adata_w_velo.var,\n",
    "                uns = uns_out_dict,\n",
    "                obsm = adata_w_velo.obsm,\n",
    "                varm = adata_w_velo.varm,\n",
    "                layers = layers_out_dict)"
   ]
  },
  {
   "cell_type": "code",
   "execution_count": 17,
   "metadata": {},
   "outputs": [],
   "source": [
    "adata_lite.write(\"./only_metadata_for_latent_time.h5ad\", compression = 'gzip')"
   ]
  },
  {
   "cell_type": "code",
   "execution_count": 16,
   "metadata": {},
   "outputs": [],
   "source": []
  },
  {
   "cell_type": "code",
   "execution_count": 15,
   "metadata": {},
   "outputs": [
    {
     "name": "stdout",
     "output_type": "stream",
     "text": [
      "computing latent time using initial_states_probs, terminal_states_probs as prior\n"
     ]
    },
    {
     "ename": "KeyboardInterrupt",
     "evalue": "",
     "output_type": "error",
     "traceback": [
      "\u001b[0;31m---------------------------------------------------------------------------\u001b[0m",
      "\u001b[0;31mKeyboardInterrupt\u001b[0m                         Traceback (most recent call last)",
      "\u001b[0;32m<ipython-input-15-9cbe47c8ca2b>\u001b[0m in \u001b[0;36m<module>\u001b[0;34m\u001b[0m\n\u001b[0;32m----> 1\u001b[0;31m scv.tl.recover_latent_time(\n\u001b[0m\u001b[1;32m      2\u001b[0m     \u001b[0madata_w_velo\u001b[0m\u001b[0;34m,\u001b[0m \u001b[0mroot_key\u001b[0m\u001b[0;34m=\u001b[0m\u001b[0;34m\"initial_states_probs\"\u001b[0m\u001b[0;34m,\u001b[0m \u001b[0mend_key\u001b[0m\u001b[0;34m=\u001b[0m\u001b[0;34m\"terminal_states_probs\"\u001b[0m\u001b[0;34m\u001b[0m\u001b[0;34m\u001b[0m\u001b[0m\n\u001b[1;32m      3\u001b[0m )\n",
      "\u001b[0;32m~/miniconda3/envs/scseq/lib/python3.8/site-packages/scvelo/tools/dynamical_model.py\u001b[0m in \u001b[0;36mlatent_time\u001b[0;34m(data, vkey, min_likelihood, min_confidence, min_corr_diffusion, weight_diffusion, root_key, end_key, t_max, copy)\u001b[0m\n\u001b[1;32m    810\u001b[0m     )\n\u001b[1;32m    811\u001b[0m \u001b[0;34m\u001b[0m\u001b[0m\n\u001b[0;32m--> 812\u001b[0;31m     VPT = velocity_pseudotime(\n\u001b[0m\u001b[1;32m    813\u001b[0m         \u001b[0madata\u001b[0m\u001b[0;34m,\u001b[0m \u001b[0mvkey\u001b[0m\u001b[0;34m,\u001b[0m \u001b[0mroot_key\u001b[0m\u001b[0;34m=\u001b[0m\u001b[0mroots\u001b[0m\u001b[0;34m[\u001b[0m\u001b[0;36m0\u001b[0m\u001b[0;34m]\u001b[0m\u001b[0;34m,\u001b[0m \u001b[0mend_key\u001b[0m\u001b[0;34m=\u001b[0m\u001b[0mfates\u001b[0m\u001b[0;34m[\u001b[0m\u001b[0;36m0\u001b[0m\u001b[0;34m]\u001b[0m\u001b[0;34m,\u001b[0m \u001b[0mreturn_model\u001b[0m\u001b[0;34m=\u001b[0m\u001b[0;32mTrue\u001b[0m\u001b[0;34m\u001b[0m\u001b[0;34m\u001b[0m\u001b[0m\n\u001b[1;32m    814\u001b[0m     )\n",
      "\u001b[0;32m~/miniconda3/envs/scseq/lib/python3.8/site-packages/scvelo/tools/velocity_pseudotime.py\u001b[0m in \u001b[0;36mvelocity_pseudotime\u001b[0;34m(adata, vkey, groupby, groups, root_key, end_key, n_dcs, use_velocity_graph, save_diffmap, return_model, **kwargs)\u001b[0m\n\u001b[1;32m    222\u001b[0m             \u001b[0mroot_key\u001b[0m\u001b[0;34m,\u001b[0m \u001b[0mend_key\u001b[0m \u001b[0;34m=\u001b[0m \u001b[0;34m\"root_cells\"\u001b[0m\u001b[0;34m,\u001b[0m \u001b[0;34m\"end_points\"\u001b[0m\u001b[0;34m\u001b[0m\u001b[0;34m\u001b[0m\u001b[0m\n\u001b[1;32m    223\u001b[0m         \u001b[0mcell_subset\u001b[0m \u001b[0;34m=\u001b[0m \u001b[0mgroups_to_bool\u001b[0m\u001b[0;34m(\u001b[0m\u001b[0madata\u001b[0m\u001b[0;34m,\u001b[0m \u001b[0mgroups\u001b[0m\u001b[0;34m=\u001b[0m\u001b[0mgroups\u001b[0m\u001b[0;34m,\u001b[0m \u001b[0mgroupby\u001b[0m\u001b[0;34m=\u001b[0m\u001b[0mgroupby\u001b[0m\u001b[0;34m)\u001b[0m\u001b[0;34m\u001b[0m\u001b[0;34m\u001b[0m\u001b[0m\n\u001b[0;32m--> 224\u001b[0;31m         \u001b[0mdata\u001b[0m \u001b[0;34m=\u001b[0m \u001b[0madata\u001b[0m\u001b[0;34m.\u001b[0m\u001b[0mcopy\u001b[0m\u001b[0;34m(\u001b[0m\u001b[0;34m)\u001b[0m \u001b[0;32mif\u001b[0m \u001b[0mcell_subset\u001b[0m \u001b[0;32mis\u001b[0m \u001b[0;32mNone\u001b[0m \u001b[0;32melse\u001b[0m \u001b[0madata\u001b[0m\u001b[0;34m[\u001b[0m\u001b[0mcell_subset\u001b[0m\u001b[0;34m]\u001b[0m\u001b[0;34m.\u001b[0m\u001b[0mcopy\u001b[0m\u001b[0;34m(\u001b[0m\u001b[0;34m)\u001b[0m\u001b[0;34m\u001b[0m\u001b[0;34m\u001b[0m\u001b[0m\n\u001b[0m\u001b[1;32m    225\u001b[0m         \u001b[0;32mif\u001b[0m \u001b[0;34m\"allow_kendall_tau_shift\"\u001b[0m \u001b[0;32mnot\u001b[0m \u001b[0;32min\u001b[0m \u001b[0mkwargs\u001b[0m\u001b[0;34m:\u001b[0m\u001b[0;34m\u001b[0m\u001b[0;34m\u001b[0m\u001b[0m\n\u001b[1;32m    226\u001b[0m             \u001b[0mkwargs\u001b[0m\u001b[0;34m[\u001b[0m\u001b[0;34m\"allow_kendall_tau_shift\"\u001b[0m\u001b[0;34m]\u001b[0m \u001b[0;34m=\u001b[0m \u001b[0;32mTrue\u001b[0m\u001b[0;34m\u001b[0m\u001b[0;34m\u001b[0m\u001b[0m\n",
      "\u001b[0;32m~/miniconda3/envs/scseq/lib/python3.8/site-packages/anndata/_core/anndata.py\u001b[0m in \u001b[0;36mcopy\u001b[0;34m(self, filename)\u001b[0m\n\u001b[1;32m   1450\u001b[0m                 \u001b[0mvarp\u001b[0m\u001b[0;34m=\u001b[0m\u001b[0mself\u001b[0m\u001b[0;34m.\u001b[0m\u001b[0mvarp\u001b[0m\u001b[0;34m.\u001b[0m\u001b[0mcopy\u001b[0m\u001b[0;34m(\u001b[0m\u001b[0;34m)\u001b[0m\u001b[0;34m,\u001b[0m\u001b[0;34m\u001b[0m\u001b[0;34m\u001b[0m\u001b[0m\n\u001b[1;32m   1451\u001b[0m                 \u001b[0mraw\u001b[0m\u001b[0;34m=\u001b[0m\u001b[0mself\u001b[0m\u001b[0;34m.\u001b[0m\u001b[0mraw\u001b[0m\u001b[0;34m.\u001b[0m\u001b[0mcopy\u001b[0m\u001b[0;34m(\u001b[0m\u001b[0;34m)\u001b[0m \u001b[0;32mif\u001b[0m \u001b[0mself\u001b[0m\u001b[0;34m.\u001b[0m\u001b[0mraw\u001b[0m \u001b[0;32mis\u001b[0m \u001b[0;32mnot\u001b[0m \u001b[0;32mNone\u001b[0m \u001b[0;32melse\u001b[0m \u001b[0;32mNone\u001b[0m\u001b[0;34m,\u001b[0m\u001b[0;34m\u001b[0m\u001b[0;34m\u001b[0m\u001b[0m\n\u001b[0;32m-> 1452\u001b[0;31m                 \u001b[0mlayers\u001b[0m\u001b[0;34m=\u001b[0m\u001b[0mself\u001b[0m\u001b[0;34m.\u001b[0m\u001b[0mlayers\u001b[0m\u001b[0;34m.\u001b[0m\u001b[0mcopy\u001b[0m\u001b[0;34m(\u001b[0m\u001b[0;34m)\u001b[0m\u001b[0;34m,\u001b[0m\u001b[0;34m\u001b[0m\u001b[0;34m\u001b[0m\u001b[0m\n\u001b[0m\u001b[1;32m   1453\u001b[0m                 \u001b[0mdtype\u001b[0m\u001b[0;34m=\u001b[0m\u001b[0mdtype\u001b[0m\u001b[0;34m,\u001b[0m\u001b[0;34m\u001b[0m\u001b[0;34m\u001b[0m\u001b[0m\n\u001b[1;32m   1454\u001b[0m             )\n",
      "\u001b[0;32m~/miniconda3/envs/scseq/lib/python3.8/site-packages/anndata/_core/aligned_mapping.py\u001b[0m in \u001b[0;36mcopy\u001b[0;34m(self)\u001b[0m\n\u001b[1;32m    265\u001b[0m         \u001b[0md\u001b[0m \u001b[0;34m=\u001b[0m \u001b[0mself\u001b[0m\u001b[0;34m.\u001b[0m\u001b[0m_actual_class\u001b[0m\u001b[0;34m(\u001b[0m\u001b[0mself\u001b[0m\u001b[0;34m.\u001b[0m\u001b[0mparent\u001b[0m\u001b[0;34m)\u001b[0m\u001b[0;34m\u001b[0m\u001b[0;34m\u001b[0m\u001b[0m\n\u001b[1;32m    266\u001b[0m         \u001b[0;32mfor\u001b[0m \u001b[0mk\u001b[0m\u001b[0;34m,\u001b[0m \u001b[0mv\u001b[0m \u001b[0;32min\u001b[0m \u001b[0mself\u001b[0m\u001b[0;34m.\u001b[0m\u001b[0mitems\u001b[0m\u001b[0;34m(\u001b[0m\u001b[0;34m)\u001b[0m\u001b[0;34m:\u001b[0m\u001b[0;34m\u001b[0m\u001b[0;34m\u001b[0m\u001b[0m\n\u001b[0;32m--> 267\u001b[0;31m             \u001b[0md\u001b[0m\u001b[0;34m[\u001b[0m\u001b[0mk\u001b[0m\u001b[0;34m]\u001b[0m \u001b[0;34m=\u001b[0m \u001b[0mv\u001b[0m\u001b[0;34m.\u001b[0m\u001b[0mcopy\u001b[0m\u001b[0;34m(\u001b[0m\u001b[0;34m)\u001b[0m\u001b[0;34m\u001b[0m\u001b[0;34m\u001b[0m\u001b[0m\n\u001b[0m\u001b[1;32m    268\u001b[0m         \u001b[0;32mreturn\u001b[0m \u001b[0md\u001b[0m\u001b[0;34m\u001b[0m\u001b[0;34m\u001b[0m\u001b[0m\n\u001b[1;32m    269\u001b[0m \u001b[0;34m\u001b[0m\u001b[0m\n",
      "\u001b[0;31mKeyboardInterrupt\u001b[0m: "
     ]
    }
   ],
   "source": [
    "scv.tl.recover_latent_time(\n",
    "    adata_w_velo, root_key=\"initial_states_probs\", end_key=\"terminal_states_probs\"\n",
    ") # This didn't fail to start..!"
   ]
  },
  {
   "cell_type": "code",
   "execution_count": null,
   "metadata": {},
   "outputs": [],
   "source": []
  }
 ],
 "metadata": {
  "kernelspec": {
   "display_name": "Python 3",
   "language": "python",
   "name": "python3"
  },
  "language_info": {
   "codemirror_mode": {
    "name": "ipython",
    "version": 3
   },
   "file_extension": ".py",
   "mimetype": "text/x-python",
   "name": "python",
   "nbconvert_exporter": "python",
   "pygments_lexer": "ipython3",
   "version": "3.8.5"
  }
 },
 "nbformat": 4,
 "nbformat_minor": 4
}
